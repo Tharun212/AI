{
 "cells": [
  {
   "cell_type": "code",
   "execution_count": 9,
   "id": "b195487f-0f9f-4e83-94f1-e3188eb6b02b",
   "metadata": {},
   "outputs": [
    {
     "name": "stdout",
     "output_type": "stream",
     "text": [
      "Recommended Treatment: Antihistamine\n"
     ]
    }
   ],
   "source": [
    "class Agent:\n",
    "    def __init__(self, treatments):\n",
    "        self.treatments = treatments  \n",
    "        \n",
    "    def calculate_utility(self, treatment, history, symptoms):\n",
    "        benefit = self.treatments[treatment]['benefit']\n",
    "        side_effect = self.treatments[treatment]['side_effect']\n",
    "        penalty = -0.5 if treatment in history.get(\"allergies\", []) else 0\n",
    "        utility_score = max(0, min(1, benefit - side_effect + penalty))\n",
    "        return utility_score\n",
    "\n",
    "    def recommend_treatment(self, history, symptoms):\n",
    "        best_treatment = None\n",
    "        best_score = float('-inf') \n",
    "\n",
    "        for i in self.treatments:\n",
    "            score = self.calculate_utility(i, history, symptoms)\n",
    "            if score > best_score:\n",
    "                best_score = score\n",
    "                best_treatment = i\n",
    "        return best_treatment\n",
    "\n",
    "data = {\n",
    "    \"Antibiotic\": {\"benefit\": 0.8, \"side_effect\": 0.3},\n",
    "    \"Painkiller\": {\"benefit\": 0.6, \"side_effect\": 0.2},\n",
    "    \"Antihistamine\": {\"benefit\": 0.7, \"side_effect\": 0.1}\n",
    "}\n",
    "\n",
    "history = {\"allergies\": [\"Antibiotic\"]}\n",
    "symptoms = [\"fever\", \"headache\"]\n",
    "\n",
    "agent = Agent(data)\n",
    "treatment = agent.recommend_treatment(history, symptoms)\n",
    "print(\"Recommended Treatment:\", treatment)\n"
   ]
  },
  {
   "cell_type": "code",
   "execution_count": null,
   "id": "84ee6067-dbfe-4a02-a81c-0fc33b7678b4",
   "metadata": {},
   "outputs": [],
   "source": []
  }
 ],
 "metadata": {
  "kernelspec": {
   "display_name": "Python 3 (ipykernel)",
   "language": "python",
   "name": "python3"
  },
  "language_info": {
   "codemirror_mode": {
    "name": "ipython",
    "version": 3
   },
   "file_extension": ".py",
   "mimetype": "text/x-python",
   "name": "python",
   "nbconvert_exporter": "python",
   "pygments_lexer": "ipython3",
   "version": "3.12.4"
  }
 },
 "nbformat": 4,
 "nbformat_minor": 5
}
