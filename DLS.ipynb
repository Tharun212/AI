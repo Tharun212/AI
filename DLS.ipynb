{
 "cells": [
  {
   "cell_type": "code",
   "execution_count": 7,
   "id": "0eb0b82c-7757-4264-9163-794d647aa9e7",
   "metadata": {},
   "outputs": [
    {
     "name": "stdout",
     "output_type": "stream",
     "text": [
      "\n",
      "Depth Limited Search from 'A' with depth limit 2:\n",
      "\n",
      "Visiting: A, Depth: 2\n",
      "Visiting: B, Depth: 1\n",
      "Visiting: C, Depth: 0\n",
      "Visiting: D, Depth: 0\n",
      "Visiting: F, Depth: 1\n",
      "Visiting: E, Depth: 0\n"
     ]
    }
   ],
   "source": [
    "from collections import defaultdict\n",
    "\n",
    "class Graph:\n",
    "    def __init__(self):\n",
    "        self.graph = defaultdict(list)\n",
    "\n",
    "    def add(self, u, v):\n",
    "        self.graph[u].append(v)\n",
    "        self.graph[v].append(u) \n",
    "        \n",
    "    def dls(self, node, depth, visited=None):\n",
    "        if visited is None:\n",
    "            visited = set()\n",
    "        if depth < 0:\n",
    "            return \n",
    "        print(f\"Visiting: {node}, Depth: {depth}\")\n",
    "        visited.add(node)\n",
    "\n",
    "        for i in self.graph[node]:\n",
    "            if i not in visited:\n",
    "                self.dls(i, depth - 1, visited)\n",
    "\n",
    "g = Graph()\n",
    "edges = [\n",
    "    ('A', 'B'), ('A', 'F'), ('A', 'C'),\n",
    "    ('B', 'C'), ('B', 'D'),\n",
    "    ('C', 'D'), ('C', 'F'),\n",
    "    ('D', 'E'), \n",
    "    ('E', 'F')\n",
    "]\n",
    "\n",
    "for u, v in edges:\n",
    "    g.add(u, v)\n",
    "\n",
    "source = 'A' \n",
    "limit = 2\n",
    "\n",
    "print(f\"\\nDepth Limited Search from '{source}' with depth limit {limit}:\\n\")\n",
    "g.dls(source,limit)\n"
   ]
  },
  {
   "cell_type": "code",
   "execution_count": null,
   "id": "427905f0-a260-45c0-b13f-3fe6f3122715",
   "metadata": {},
   "outputs": [],
   "source": []
  }
 ],
 "metadata": {
  "kernelspec": {
   "display_name": "Python 3 (ipykernel)",
   "language": "python",
   "name": "python3"
  },
  "language_info": {
   "codemirror_mode": {
    "name": "ipython",
    "version": 3
   },
   "file_extension": ".py",
   "mimetype": "text/x-python",
   "name": "python",
   "nbconvert_exporter": "python",
   "pygments_lexer": "ipython3",
   "version": "3.12.4"
  }
 },
 "nbformat": 4,
 "nbformat_minor": 5
}
