{
 "cells": [
  {
   "cell_type": "code",
   "execution_count": 7,
   "id": "b35c2ed0-44b5-40a4-82fc-85b3dfe34b17",
   "metadata": {},
   "outputs": [
    {
     "name": "stdout",
     "output_type": "stream",
     "text": [
      "Possible diagnoses: ['Flu', 'COVID-19', 'Pneumonia']\n"
     ]
    }
   ],
   "source": [
    "def data():\n",
    "    return {\n",
    "        \"Flu\": [\"fever\", \"cough\", \"sore throat\", \"fatigue\"],\n",
    "        \"COVID-19\": [\"fever\", \"cough\", \"loss of taste\", \"shortness of breath\"],\n",
    "        \"Pneumonia\": [\"fever\", \"cough\", \"chest pain\", \"shortness of breath\"],\n",
    "        \"Migraine\": [\"headache\", \"nausea\", \"sensitivity to light\"],\n",
    "        \"Diabetes\": [\"excessive thirst\", \"frequent urination\", \"unexplained weight loss\"],\n",
    "    }\n",
    "\n",
    "def diagnose(symptoms):\n",
    "    rules = data()\n",
    "    diseases = []\n",
    "    for i, j in rules.items():\n",
    "        if any(symptom in symptoms for symptom in j):\n",
    "            diseases.append(i)\n",
    "    if not diseases:\n",
    "        return \"No known disease found. Please consult a doctor.\"\n",
    "    return diseases\n",
    "\n",
    "if __name__ == \"__main__\":\n",
    "    symptoms = [\"fever\", \"cough\", \"shortness of breath\"]\n",
    "    diagnosis = diagnose(symptoms)\n",
    "    print(\"Possible diagnoses:\", diagnosis)\n"
   ]
  },
  {
   "cell_type": "code",
   "execution_count": null,
   "id": "d1bc7ab6-5f25-4a66-982e-44e48189081e",
   "metadata": {},
   "outputs": [],
   "source": []
  }
 ],
 "metadata": {
  "kernelspec": {
   "display_name": "Python 3 (ipykernel)",
   "language": "python",
   "name": "python3"
  },
  "language_info": {
   "codemirror_mode": {
    "name": "ipython",
    "version": 3
   },
   "file_extension": ".py",
   "mimetype": "text/x-python",
   "name": "python",
   "nbconvert_exporter": "python",
   "pygments_lexer": "ipython3",
   "version": "3.12.4"
  }
 },
 "nbformat": 4,
 "nbformat_minor": 5
}
