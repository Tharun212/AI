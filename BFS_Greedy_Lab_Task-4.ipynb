{
 "cells": [
  {
   "cell_type": "code",
   "execution_count": 7,
   "id": "c0d8a6e3-b176-4901-86c1-df5aa09d13ea",
   "metadata": {},
   "outputs": [
    {
     "name": "stdout",
     "output_type": "stream",
     "text": [
      "Goal found at node 7 with path: [0, 2, 6, 7]\n"
     ]
    }
   ],
   "source": [
    "def greedy(cost, heuristics, start):\n",
    "    n = len(cost)\n",
    "    current = start\n",
    "    path = [current]\n",
    "    while heuristics[current] != 0:\n",
    "        min  = float('inf')\n",
    "        next = -1\n",
    "        for i in range(n): \n",
    "            for j in range(n):\n",
    "                if cost[i][j] > 0 and heuristics[j] < min and i == current :\n",
    "                    min = heuristics[j]\n",
    "                    next = j\n",
    "        if next == -1 :\n",
    "            return \"Goal Node Not Found\" \n",
    "        current = next\n",
    "        path.append(current)\n",
    "    \n",
    "    return f\"Goal found at node {current} with path: {path}\"\n",
    "    \n",
    "cost = [\n",
    "    [0,3,2,0,0,0,0,0,0,0],\n",
    "    [0,0,0,4,1,0,0,0,0,0],\n",
    "    [0,0,0,0,0,3,1,0,0,0],\n",
    "    [0,0,0,0,0,0,0,0,0,0],\n",
    "    [0,0,0,0,0,0,0,0,0,0],\n",
    "    [0,0,0,0,0,0,0,0,5,0],\n",
    "    [0,0,0,0,0,0,0,3,0,2],\n",
    "    [0,0,0,0,0,0,0,0,0,0],\n",
    "    [0,0,0,0,0,0,0,0,0,0]\n",
    "]\n",
    "heuristics = [13,12,4,7,2,8,2,0,4,9]\n",
    "start = 0\n",
    "result = greedy(cost, heuristics, start)\n",
    "print(result)\n"
   ]
  }
 ],
 "metadata": {
  "kernelspec": {
   "display_name": "Python 3 (ipykernel)",
   "language": "python",
   "name": "python3"
  },
  "language_info": {
   "codemirror_mode": {
    "name": "ipython",
    "version": 3
   },
   "file_extension": ".py",
   "mimetype": "text/x-python",
   "name": "python",
   "nbconvert_exporter": "python",
   "pygments_lexer": "ipython3",
   "version": "3.12.4"
  }
 },
 "nbformat": 4,
 "nbformat_minor": 5
}
